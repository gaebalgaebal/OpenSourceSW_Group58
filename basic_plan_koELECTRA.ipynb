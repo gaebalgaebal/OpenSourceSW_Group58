{
  "nbformat": 4,
  "nbformat_minor": 0,
  "metadata": {
    "colab": {
      "provenance": []
    },
    "kernelspec": {
      "name": "python3",
      "display_name": "Python 3"
    },
    "language_info": {
      "name": "python"
    },
    "widgets": {
      "application/vnd.jupyter.widget-state+json": {
        "98f037845bc74b408deb61de3d4e5132": {
          "model_module": "@jupyter-widgets/controls",
          "model_name": "HBoxModel",
          "model_module_version": "1.5.0",
          "state": {
            "_dom_classes": [],
            "_model_module": "@jupyter-widgets/controls",
            "_model_module_version": "1.5.0",
            "_model_name": "HBoxModel",
            "_view_count": null,
            "_view_module": "@jupyter-widgets/controls",
            "_view_module_version": "1.5.0",
            "_view_name": "HBoxView",
            "box_style": "",
            "children": [
              "IPY_MODEL_eb3e0ba68ce84ac4b1c4af2775450b45",
              "IPY_MODEL_32489e51ec684d33bc68aca9b6d7fc96",
              "IPY_MODEL_b034f1dc57a44d5aa26688c5ee6072c2"
            ],
            "layout": "IPY_MODEL_632942d4bb964aa68d4aa6727273bd97"
          }
        },
        "eb3e0ba68ce84ac4b1c4af2775450b45": {
          "model_module": "@jupyter-widgets/controls",
          "model_name": "HTMLModel",
          "model_module_version": "1.5.0",
          "state": {
            "_dom_classes": [],
            "_model_module": "@jupyter-widgets/controls",
            "_model_module_version": "1.5.0",
            "_model_name": "HTMLModel",
            "_view_count": null,
            "_view_module": "@jupyter-widgets/controls",
            "_view_module_version": "1.5.0",
            "_view_name": "HTMLView",
            "description": "",
            "description_tooltip": null,
            "layout": "IPY_MODEL_bccc71f5c95e41f4a5ea01ca2345cc6f",
            "placeholder": "​",
            "style": "IPY_MODEL_d0088eb930694ef48d6f7b40597ea6ad",
            "value": "model.safetensors: 100%"
          }
        },
        "32489e51ec684d33bc68aca9b6d7fc96": {
          "model_module": "@jupyter-widgets/controls",
          "model_name": "FloatProgressModel",
          "model_module_version": "1.5.0",
          "state": {
            "_dom_classes": [],
            "_model_module": "@jupyter-widgets/controls",
            "_model_module_version": "1.5.0",
            "_model_name": "FloatProgressModel",
            "_view_count": null,
            "_view_module": "@jupyter-widgets/controls",
            "_view_module_version": "1.5.0",
            "_view_name": "ProgressView",
            "bar_style": "success",
            "description": "",
            "description_tooltip": null,
            "layout": "IPY_MODEL_ddbb43855e5747ac93402b94943141fb",
            "max": 451716860,
            "min": 0,
            "orientation": "horizontal",
            "style": "IPY_MODEL_6696e74f6efe4ed194b829b40c241baf",
            "value": 451716860
          }
        },
        "b034f1dc57a44d5aa26688c5ee6072c2": {
          "model_module": "@jupyter-widgets/controls",
          "model_name": "HTMLModel",
          "model_module_version": "1.5.0",
          "state": {
            "_dom_classes": [],
            "_model_module": "@jupyter-widgets/controls",
            "_model_module_version": "1.5.0",
            "_model_name": "HTMLModel",
            "_view_count": null,
            "_view_module": "@jupyter-widgets/controls",
            "_view_module_version": "1.5.0",
            "_view_name": "HTMLView",
            "description": "",
            "description_tooltip": null,
            "layout": "IPY_MODEL_8c50e4f40e434782a7387429970fa104",
            "placeholder": "​",
            "style": "IPY_MODEL_fccac6c6f96546dfb9955d297a77aeb3",
            "value": " 452M/452M [00:13&lt;00:00, 36.8MB/s]"
          }
        },
        "632942d4bb964aa68d4aa6727273bd97": {
          "model_module": "@jupyter-widgets/base",
          "model_name": "LayoutModel",
          "model_module_version": "1.2.0",
          "state": {
            "_model_module": "@jupyter-widgets/base",
            "_model_module_version": "1.2.0",
            "_model_name": "LayoutModel",
            "_view_count": null,
            "_view_module": "@jupyter-widgets/base",
            "_view_module_version": "1.2.0",
            "_view_name": "LayoutView",
            "align_content": null,
            "align_items": null,
            "align_self": null,
            "border": null,
            "bottom": null,
            "display": null,
            "flex": null,
            "flex_flow": null,
            "grid_area": null,
            "grid_auto_columns": null,
            "grid_auto_flow": null,
            "grid_auto_rows": null,
            "grid_column": null,
            "grid_gap": null,
            "grid_row": null,
            "grid_template_areas": null,
            "grid_template_columns": null,
            "grid_template_rows": null,
            "height": null,
            "justify_content": null,
            "justify_items": null,
            "left": null,
            "margin": null,
            "max_height": null,
            "max_width": null,
            "min_height": null,
            "min_width": null,
            "object_fit": null,
            "object_position": null,
            "order": null,
            "overflow": null,
            "overflow_x": null,
            "overflow_y": null,
            "padding": null,
            "right": null,
            "top": null,
            "visibility": null,
            "width": null
          }
        },
        "bccc71f5c95e41f4a5ea01ca2345cc6f": {
          "model_module": "@jupyter-widgets/base",
          "model_name": "LayoutModel",
          "model_module_version": "1.2.0",
          "state": {
            "_model_module": "@jupyter-widgets/base",
            "_model_module_version": "1.2.0",
            "_model_name": "LayoutModel",
            "_view_count": null,
            "_view_module": "@jupyter-widgets/base",
            "_view_module_version": "1.2.0",
            "_view_name": "LayoutView",
            "align_content": null,
            "align_items": null,
            "align_self": null,
            "border": null,
            "bottom": null,
            "display": null,
            "flex": null,
            "flex_flow": null,
            "grid_area": null,
            "grid_auto_columns": null,
            "grid_auto_flow": null,
            "grid_auto_rows": null,
            "grid_column": null,
            "grid_gap": null,
            "grid_row": null,
            "grid_template_areas": null,
            "grid_template_columns": null,
            "grid_template_rows": null,
            "height": null,
            "justify_content": null,
            "justify_items": null,
            "left": null,
            "margin": null,
            "max_height": null,
            "max_width": null,
            "min_height": null,
            "min_width": null,
            "object_fit": null,
            "object_position": null,
            "order": null,
            "overflow": null,
            "overflow_x": null,
            "overflow_y": null,
            "padding": null,
            "right": null,
            "top": null,
            "visibility": null,
            "width": null
          }
        },
        "d0088eb930694ef48d6f7b40597ea6ad": {
          "model_module": "@jupyter-widgets/controls",
          "model_name": "DescriptionStyleModel",
          "model_module_version": "1.5.0",
          "state": {
            "_model_module": "@jupyter-widgets/controls",
            "_model_module_version": "1.5.0",
            "_model_name": "DescriptionStyleModel",
            "_view_count": null,
            "_view_module": "@jupyter-widgets/base",
            "_view_module_version": "1.2.0",
            "_view_name": "StyleView",
            "description_width": ""
          }
        },
        "ddbb43855e5747ac93402b94943141fb": {
          "model_module": "@jupyter-widgets/base",
          "model_name": "LayoutModel",
          "model_module_version": "1.2.0",
          "state": {
            "_model_module": "@jupyter-widgets/base",
            "_model_module_version": "1.2.0",
            "_model_name": "LayoutModel",
            "_view_count": null,
            "_view_module": "@jupyter-widgets/base",
            "_view_module_version": "1.2.0",
            "_view_name": "LayoutView",
            "align_content": null,
            "align_items": null,
            "align_self": null,
            "border": null,
            "bottom": null,
            "display": null,
            "flex": null,
            "flex_flow": null,
            "grid_area": null,
            "grid_auto_columns": null,
            "grid_auto_flow": null,
            "grid_auto_rows": null,
            "grid_column": null,
            "grid_gap": null,
            "grid_row": null,
            "grid_template_areas": null,
            "grid_template_columns": null,
            "grid_template_rows": null,
            "height": null,
            "justify_content": null,
            "justify_items": null,
            "left": null,
            "margin": null,
            "max_height": null,
            "max_width": null,
            "min_height": null,
            "min_width": null,
            "object_fit": null,
            "object_position": null,
            "order": null,
            "overflow": null,
            "overflow_x": null,
            "overflow_y": null,
            "padding": null,
            "right": null,
            "top": null,
            "visibility": null,
            "width": null
          }
        },
        "6696e74f6efe4ed194b829b40c241baf": {
          "model_module": "@jupyter-widgets/controls",
          "model_name": "ProgressStyleModel",
          "model_module_version": "1.5.0",
          "state": {
            "_model_module": "@jupyter-widgets/controls",
            "_model_module_version": "1.5.0",
            "_model_name": "ProgressStyleModel",
            "_view_count": null,
            "_view_module": "@jupyter-widgets/base",
            "_view_module_version": "1.2.0",
            "_view_name": "StyleView",
            "bar_color": null,
            "description_width": ""
          }
        },
        "8c50e4f40e434782a7387429970fa104": {
          "model_module": "@jupyter-widgets/base",
          "model_name": "LayoutModel",
          "model_module_version": "1.2.0",
          "state": {
            "_model_module": "@jupyter-widgets/base",
            "_model_module_version": "1.2.0",
            "_model_name": "LayoutModel",
            "_view_count": null,
            "_view_module": "@jupyter-widgets/base",
            "_view_module_version": "1.2.0",
            "_view_name": "LayoutView",
            "align_content": null,
            "align_items": null,
            "align_self": null,
            "border": null,
            "bottom": null,
            "display": null,
            "flex": null,
            "flex_flow": null,
            "grid_area": null,
            "grid_auto_columns": null,
            "grid_auto_flow": null,
            "grid_auto_rows": null,
            "grid_column": null,
            "grid_gap": null,
            "grid_row": null,
            "grid_template_areas": null,
            "grid_template_columns": null,
            "grid_template_rows": null,
            "height": null,
            "justify_content": null,
            "justify_items": null,
            "left": null,
            "margin": null,
            "max_height": null,
            "max_width": null,
            "min_height": null,
            "min_width": null,
            "object_fit": null,
            "object_position": null,
            "order": null,
            "overflow": null,
            "overflow_x": null,
            "overflow_y": null,
            "padding": null,
            "right": null,
            "top": null,
            "visibility": null,
            "width": null
          }
        },
        "fccac6c6f96546dfb9955d297a77aeb3": {
          "model_module": "@jupyter-widgets/controls",
          "model_name": "DescriptionStyleModel",
          "model_module_version": "1.5.0",
          "state": {
            "_model_module": "@jupyter-widgets/controls",
            "_model_module_version": "1.5.0",
            "_model_name": "DescriptionStyleModel",
            "_view_count": null,
            "_view_module": "@jupyter-widgets/base",
            "_view_module_version": "1.2.0",
            "_view_name": "StyleView",
            "description_width": ""
          }
        }
      }
    }
  },
  "cells": [
    {
      "cell_type": "code",
      "execution_count": 10,
      "metadata": {
        "colab": {
          "base_uri": "https://localhost:8080/"
        },
        "id": "7RsuvOP2vE3d",
        "outputId": "db749638-d226-4ac3-a9af-6dca002de8ef"
      },
      "outputs": [
        {
          "output_type": "stream",
          "name": "stdout",
          "text": [
            "Requirement already satisfied: transformers in /usr/local/lib/python3.10/dist-packages (4.46.2)\n",
            "Requirement already satisfied: torch in /usr/local/lib/python3.10/dist-packages (2.5.0+cu121)\n",
            "Requirement already satisfied: matplotlib in /usr/local/lib/python3.10/dist-packages (3.8.0)\n",
            "Requirement already satisfied: seaborn in /usr/local/lib/python3.10/dist-packages (0.13.2)\n",
            "Requirement already satisfied: pandas in /usr/local/lib/python3.10/dist-packages (2.2.2)\n",
            "Requirement already satisfied: filelock in /usr/local/lib/python3.10/dist-packages (from transformers) (3.16.1)\n",
            "Requirement already satisfied: huggingface-hub<1.0,>=0.23.2 in /usr/local/lib/python3.10/dist-packages (from transformers) (0.26.2)\n",
            "Requirement already satisfied: numpy>=1.17 in /usr/local/lib/python3.10/dist-packages (from transformers) (1.26.4)\n",
            "Requirement already satisfied: packaging>=20.0 in /usr/local/lib/python3.10/dist-packages (from transformers) (24.2)\n",
            "Requirement already satisfied: pyyaml>=5.1 in /usr/local/lib/python3.10/dist-packages (from transformers) (6.0.2)\n",
            "Requirement already satisfied: regex!=2019.12.17 in /usr/local/lib/python3.10/dist-packages (from transformers) (2024.9.11)\n",
            "Requirement already satisfied: requests in /usr/local/lib/python3.10/dist-packages (from transformers) (2.32.3)\n",
            "Requirement already satisfied: safetensors>=0.4.1 in /usr/local/lib/python3.10/dist-packages (from transformers) (0.4.5)\n",
            "Requirement already satisfied: tokenizers<0.21,>=0.20 in /usr/local/lib/python3.10/dist-packages (from transformers) (0.20.3)\n",
            "Requirement already satisfied: tqdm>=4.27 in /usr/local/lib/python3.10/dist-packages (from transformers) (4.66.6)\n",
            "Requirement already satisfied: typing-extensions>=4.8.0 in /usr/local/lib/python3.10/dist-packages (from torch) (4.12.2)\n",
            "Requirement already satisfied: networkx in /usr/local/lib/python3.10/dist-packages (from torch) (3.4.2)\n",
            "Requirement already satisfied: jinja2 in /usr/local/lib/python3.10/dist-packages (from torch) (3.1.4)\n",
            "Requirement already satisfied: fsspec in /usr/local/lib/python3.10/dist-packages (from torch) (2024.10.0)\n",
            "Requirement already satisfied: sympy==1.13.1 in /usr/local/lib/python3.10/dist-packages (from torch) (1.13.1)\n",
            "Requirement already satisfied: mpmath<1.4,>=1.1.0 in /usr/local/lib/python3.10/dist-packages (from sympy==1.13.1->torch) (1.3.0)\n",
            "Requirement already satisfied: contourpy>=1.0.1 in /usr/local/lib/python3.10/dist-packages (from matplotlib) (1.3.0)\n",
            "Requirement already satisfied: cycler>=0.10 in /usr/local/lib/python3.10/dist-packages (from matplotlib) (0.12.1)\n",
            "Requirement already satisfied: fonttools>=4.22.0 in /usr/local/lib/python3.10/dist-packages (from matplotlib) (4.54.1)\n",
            "Requirement already satisfied: kiwisolver>=1.0.1 in /usr/local/lib/python3.10/dist-packages (from matplotlib) (1.4.7)\n",
            "Requirement already satisfied: pillow>=6.2.0 in /usr/local/lib/python3.10/dist-packages (from matplotlib) (11.0.0)\n",
            "Requirement already satisfied: pyparsing>=2.3.1 in /usr/local/lib/python3.10/dist-packages (from matplotlib) (3.2.0)\n",
            "Requirement already satisfied: python-dateutil>=2.7 in /usr/local/lib/python3.10/dist-packages (from matplotlib) (2.8.2)\n",
            "Requirement already satisfied: pytz>=2020.1 in /usr/local/lib/python3.10/dist-packages (from pandas) (2024.2)\n",
            "Requirement already satisfied: tzdata>=2022.7 in /usr/local/lib/python3.10/dist-packages (from pandas) (2024.2)\n",
            "Requirement already satisfied: six>=1.5 in /usr/local/lib/python3.10/dist-packages (from python-dateutil>=2.7->matplotlib) (1.16.0)\n",
            "Requirement already satisfied: MarkupSafe>=2.0 in /usr/local/lib/python3.10/dist-packages (from jinja2->torch) (3.0.2)\n",
            "Requirement already satisfied: charset-normalizer<4,>=2 in /usr/local/lib/python3.10/dist-packages (from requests->transformers) (3.4.0)\n",
            "Requirement already satisfied: idna<4,>=2.5 in /usr/local/lib/python3.10/dist-packages (from requests->transformers) (3.10)\n",
            "Requirement already satisfied: urllib3<3,>=1.21.1 in /usr/local/lib/python3.10/dist-packages (from requests->transformers) (2.2.3)\n",
            "Requirement already satisfied: certifi>=2017.4.17 in /usr/local/lib/python3.10/dist-packages (from requests->transformers) (2024.8.30)\n"
          ]
        }
      ],
      "source": [
        "!pip install transformers torch matplotlib seaborn pandas\n"
      ]
    },
    {
      "cell_type": "code",
      "source": [
        "import matplotlib.pyplot as plt\n",
        "import seaborn as sns\n",
        "from transformers import AutoTokenizer, AutoModelForSequenceClassification, TextClassificationPipeline\n",
        "import pandas as pd\n"
      ],
      "metadata": {
        "id": "T6_TZ3BGz3wc"
      },
      "execution_count": 11,
      "outputs": []
    },
    {
      "cell_type": "code",
      "source": [
        "tokenizer = AutoTokenizer.from_pretrained(\"monologg/koelectra-base-v3-discriminator\")\n",
        "model = AutoModelForSequenceClassification.from_pretrained(\"monologg/koelectra-base-v3-discriminator\")\n",
        "pipeline = TextClassificationPipeline(model=model, tokenizer=tokenizer)\n"
      ],
      "metadata": {
        "colab": {
          "base_uri": "https://localhost:8080/"
        },
        "id": "MNPJuCQ5z5yC",
        "outputId": "ff179867-338c-4263-83fd-484d4df4837e"
      },
      "execution_count": 12,
      "outputs": [
        {
          "output_type": "stream",
          "name": "stderr",
          "text": [
            "Some weights of ElectraForSequenceClassification were not initialized from the model checkpoint at monologg/koelectra-base-v3-discriminator and are newly initialized: ['classifier.dense.bias', 'classifier.dense.weight', 'classifier.out_proj.bias', 'classifier.out_proj.weight']\n",
            "You should probably TRAIN this model on a down-stream task to be able to use it for predictions and inference.\n"
          ]
        }
      ]
    },
    {
      "cell_type": "code",
      "source": [
        "texts = [\n",
        "    \"배공빠르고 굿\",\n",
        "    \"택배가 엉망이네용 저희집 밑에층에 말도없이 놔두고가고\",\n",
        "    \"아주좋아요 바지 정말 좋아서2개 더 구매했어요 이가격에 대박입니다. 바느질이 조금 엉성하긴 하지만 편하고 가성비 최고예요.\",\n",
        "    \"선물용으로 빨리 받아서 전달했어야 하는 상품이었는데 머그컵만 와서 당황했습니다. 전화했더니 바로주신다했지만 배송도 누락되어있었네요.. 확인안하고 바로 선물했으면 큰일날뻔했네요..이렇게 배송이 오래걸렸으면 사는거 다시 생각했을거같아요 아쉽네요..\",\n",
        "    \"민트색상 예뻐요. 옆 손잡이는 거는 용도로도 사용되네요 ㅎㅎ\",\n",
        "    \"비추합니다 계란 뒤집을 때 완전 불편해요 ㅠㅠ 코팅도 묻어나고 보기엔 예쁘고 실용적으로 보였는데 생각보다 진짜 별로입니다.\",\n",
        "    \"주문을 11월6에 시켰는데 11월16일에 배송이 왔네요 ㅎㅎㅎ 여기 회사측과는 전화도 안되고 아무런 연락을 받을수가 없으니 답답하신 분들은 다른곳에서 사시는거 추천드립니다\",\n",
        "    \"넉넉한 길이로 주문했는데도 안 맞네요 별로예요\",\n",
        "    \"보폴이 계속 때처럼 나오다가 지금은 안나네요~\",\n",
        "    \"110인데 전문속옷브랜드 위생팬티105보다 작은듯해요. 불편해요. 밴딩부분이 다 신축성없는 일반실로 되어있어 빅사이즈임에도 빅사이즈같지않아요. 입고벗을때 편하게 밴딩부분이 늘어나고 입었을때도 밴딩이 잡아주어야하는데 말이죠.\",\n",
        "    \"사이즈도 딱이고 귀엽고 넘 좋아요 ㅎㅎ\",\n",
        "    \"베이지 색 구매했는데 약간 살색에 가까워요\",\n",
        "    \"화면빨인가봐요;; 노란컬러가 돋보여요;; 저렴한맛에 그냥 씁니다\",\n",
        "    \"별루 ㅏㅛㅇ치ㅗ티ㅓ치ㅗ탛캏타ㅗ티ㅗ티ㅗ티ㅛ티ㅛ티ㅗㅗㅗ치ㅕ치ㅕ쳐ㅣ처ㅣ치ㅓ처ㅣ펴ㅣ쳐ㅣ치ㅕㅐㅛㅌ쵸ㅔ려ㅔㅎ\",\n",
        "    \"촉감도 좋고 무게감이나 핏도 편합니다\",\n",
        "    \"불멍하기좋고 사이즈도 너무 좋아요\",\n",
        "    \"재구매 친구들이 좋은 향 난다고 해요\",\n",
        "    \"실내에서 신는건지 몰랐어요\",\n",
        "    \"재구매 다 좋은데 하나가 이상하네요\",\n",
        "    \"가게를 운영하는 사장님께서 대신 구매 해달라고 하셔서 구매하게되었는데 가게에 달아놓으니까 이쁘네요\",\n",
        "    \"가성비 괜찮습니다 바퀴가 고정된다면 별다섯개짜린데...\",\n",
        "    \"화장이 깨끗하게 지워지지않아요 거품이생기고 오랫동안 문질러서 씻어내야하지만 세정력이 별로인듯해요\",\n",
        "    \"남자 애들 인데 너무 좋아요 유해성분없어 초등들도 바르기좋아요\",\n",
        "    \"채집통이 결착이 안됩니다. 채집통이 결착이 안되서 커터칼로 결착 부분과 모서리 부분을 깍아 냈더니 겨우 결착이 됩니다.해당 부분은 제품 불량 이슈 같구요 보내시기 전에 최소한의 테스트는 하고 보내주세요.\",\n",
        "    \"재구매 늘 사는 흙이에요 팽이들이 젤 좋아해요 빠른배송 감사합니다\",\n",
        "    \"처음 쓸때만 좋고 쓰다보니 의자뺄때 소리 계속 나요 그래서 붙이는부직포 덧붙였는데 여전히 끌리네요 비추에요 테니스공으로 살껄 이쁜거 산다고 이거 사서 후회되요\",\n",
        "    \"배송기사나, 판매하는 회사나 불친절하고 불쾌합니다. 서비스면에선 최악이네요 제품은 그럭저럭 쓸만합니다. 싼게 비지떡 마인드부터 갖추고 장사하시길바랍니다. 이익에 눈\",\n",
        "    \"저렴해서 구매 했지만 바지 완성도 떨어짐~~^^;\",\n",
        "    \"사용이 불편하고 잘빠지네요ㅜ\",\n",
        "    \"양은 많은데 맛은 없었습니다\",\n",
        "    \"설치할때 전압이 넘 높아 퓨즈 나갔어여\",\n",
        "    \"첨에받았을땐 너무튼튼하구 칸막이도있구 넘맘에들었는데요... 지금도맘에는들어요..근데....먼지가 먼지가 세상먼지다묻어요ㅠㅠ흑흑ㅠ 집에가만히 뒀는데도 먼지가다묻어있어요ㅠ 한번들고 그냥 모셔두었어요ㅜㅜ 까만색은 넘나비추입니다ㅠ 아이보리로살껄...ㅠ\",\n",
        "    \"휴대폰 각이 잘 안나옴 노트9 사용 얇은 케이스 꺼도 잘 빠지지가 않네요 진짜 불편한건 각도가 조절이 너무 조금 된다는 점 입니다,,,,\",\n",
        "    \"너무 생각보다 고급스럽\",\n",
        "    \"가볍고 좋아요. 옵션에 파우치도 있었으면 얼마나 좋았을까 아쉽네요. 따로 구매 했어요. 잘 사용할께요.\",\n",
        "    \"총 4개 샀는데,사용하기 전에 부드러운 물티슈로 닦았는데,프린트가 번졌네요 교환하기가 귀찮아서 그냥 쓰지만 아쉽네요\",\n",
        "    \"모기가 않들어가요ᆢ\",\n",
        "    \"선물준사람도 받은사람도 모두 만족했어요^^\",\n",
        "    \"예쁘고 심플해서 샀는데. 재질이 깔끄러워요. 살에 자국 다 베이고ㅠㅠ....폭망이에요. 재대로 확인안한 제 잘못이죠;;; 참고로 싱글세트 2. 퀸세트 1 샀습니다.\",\n",
        "    \"고정이 잘되기는 하는데 많이 쓰면 떡진것 처럼 보일까봐 걱정되서 많이 못쓰겠어요\",\n",
        "    \"맛있어서 주문합니다. 카페갈 필요없음\",\n",
        "    \"진짜 너무하시네요 배송이늦는건 엄절수없다하고 참앗지만 밑에 서랍이 금방 안되서 AS되냐고 물어봣는데 전화도 안받고 10시에 톡을보냇는데 오후6시에 답해서 뭐하나물어보려고하니 상담시간이아니라고 뜨네요 빨리as좀 해주세요 안되면 안된다고 답장부탁드립니다\",\n",
        "    \"좋아요 색도 좋고 포근한 이불\",\n",
        "    \"네이비 색상이 조금 진한듯 하지만 굿\",\n",
        "    \"역시 기다린 보람이 있는 제품이군요!!\",\n",
        "    \"퀄리티 가 좀떨어지고 손이따로노는것 같아요\",\n",
        "    \"약간 삐뚤게 설치되네요.. 반품 귀찮아서 그냥 씁니다.\",\n",
        "    \"피부 트러블 더 많이 올라와서 몸에 사용했는데 몸에도 뾰루지나네요ㅜ\",\n",
        "    \"겁나 아픈데 익숙해지면 된다길래 몇일 했더니 발에 멍들고 고통이 너무 심하고 컨디션이 더 안좋아져서 결국 패기처분 했네요. 사람마다 다르니 사기전에 신중히 결정하세요. 참고로 전 평발아닙니다.\",\n",
        "    \"아직 이유식 초기라 사용하지않았지만 후기보고 믿고 구매했습니다! 사이즈는 다양해서 너무 좋고요 실리콘재질이라 편하게 쓸거같아요\",\n",
        "    \"사이즈가 딱이에요!! 오자마자 쪄 먹엇는뎅 달디달아요\",\n",
        "    \"좀뻣뻣해서 애가 좋아하질않네요\",\n",
        "    \"생각보다 너무 작아서요 나중에 먼지먹는식물이나 넣어야겠어요 물건은 흠없습니다\",\n",
        "    \"세정력이 약해요. 처음사용할 땐 세제찌꺼기가 없어서 좋다고 했는데 2/3 사용해보니 너무 안씻겨요. 지멘스랑 안맞는건지.... 다시 쓰던 고체형으로 갈아탔습니다.\",\n",
        "    \"흡착력이 너무 약해요..ㅠ 식판은 잘붙는데 이거는 애기가 자꾸 떼네요\",\n",
        "    \"재구매 짱구오빠네 소개로 이용했는데 저번엔...\",\n",
        "]\n",
        "\n"
      ],
      "metadata": {
        "id": "5vmruSx40Fzd"
      },
      "execution_count": 13,
      "outputs": []
    },
    {
      "cell_type": "code",
      "source": [
        "results = [pipeline(text)[0] for text in texts]\n",
        "\n",
        "# visualize\n",
        "for text, result in zip(texts, results):\n",
        "    print(f\"Text: {text} -> Sentiment: {result['label']}, Score: {result['score']}\")\n"
      ],
      "metadata": {
        "colab": {
          "base_uri": "https://localhost:8080/",
          "height": 1000,
          "referenced_widgets": [
            "98f037845bc74b408deb61de3d4e5132",
            "eb3e0ba68ce84ac4b1c4af2775450b45",
            "32489e51ec684d33bc68aca9b6d7fc96",
            "b034f1dc57a44d5aa26688c5ee6072c2",
            "632942d4bb964aa68d4aa6727273bd97",
            "bccc71f5c95e41f4a5ea01ca2345cc6f",
            "d0088eb930694ef48d6f7b40597ea6ad",
            "ddbb43855e5747ac93402b94943141fb",
            "6696e74f6efe4ed194b829b40c241baf",
            "8c50e4f40e434782a7387429970fa104",
            "fccac6c6f96546dfb9955d297a77aeb3"
          ]
        },
        "id": "T_wEO1CL0H-a",
        "outputId": "e7caa54f-cdc9-4ed5-a8e0-a52ad98e82f8"
      },
      "execution_count": 14,
      "outputs": [
        {
          "output_type": "display_data",
          "data": {
            "text/plain": [
              "model.safetensors:   0%|          | 0.00/452M [00:00<?, ?B/s]"
            ],
            "application/vnd.jupyter.widget-view+json": {
              "version_major": 2,
              "version_minor": 0,
              "model_id": "98f037845bc74b408deb61de3d4e5132"
            }
          },
          "metadata": {}
        },
        {
          "output_type": "stream",
          "name": "stdout",
          "text": [
            "Text: 배공빠르고 굿 -> Sentiment: LABEL_1, Score: 0.5033751726150513\n",
            "Text: 택배가 엉망이네용 저희집 밑에층에 말도없이 놔두고가고 -> Sentiment: LABEL_1, Score: 0.5103297233581543\n",
            "Text: 아주좋아요 바지 정말 좋아서2개 더 구매했어요 이가격에 대박입니다. 바느질이 조금 엉성하긴 하지만 편하고 가성비 최고예요. -> Sentiment: LABEL_1, Score: 0.520544171333313\n",
            "Text: 선물용으로 빨리 받아서 전달했어야 하는 상품이었는데 머그컵만 와서 당황했습니다. 전화했더니 바로주신다했지만 배송도 누락되어있었네요.. 확인안하고 바로 선물했으면 큰일날뻔했네요..이렇게 배송이 오래걸렸으면 사는거 다시 생각했을거같아요 아쉽네요.. -> Sentiment: LABEL_1, Score: 0.5228908061981201\n",
            "Text: 민트색상 예뻐요. 옆 손잡이는 거는 용도로도 사용되네요 ㅎㅎ -> Sentiment: LABEL_1, Score: 0.512018620967865\n",
            "Text: 비추합니다 계란 뒤집을 때 완전 불편해요 ㅠㅠ 코팅도 묻어나고 보기엔 예쁘고 실용적으로 보였는데 생각보다 진짜 별로입니다. -> Sentiment: LABEL_1, Score: 0.5237003564834595\n",
            "Text: 주문을 11월6에 시켰는데 11월16일에 배송이 왔네요 ㅎㅎㅎ 여기 회사측과는 전화도 안되고 아무런 연락을 받을수가 없으니 답답하신 분들은 다른곳에서 사시는거 추천드립니다 -> Sentiment: LABEL_1, Score: 0.5260543823242188\n",
            "Text: 넉넉한 길이로 주문했는데도 안 맞네요 별로예요 -> Sentiment: LABEL_1, Score: 0.51705002784729\n",
            "Text: 보폴이 계속 때처럼 나오다가 지금은 안나네요~ -> Sentiment: LABEL_1, Score: 0.5056034922599792\n",
            "Text: 110인데 전문속옷브랜드 위생팬티105보다 작은듯해요. 불편해요. 밴딩부분이 다 신축성없는 일반실로 되어있어 빅사이즈임에도 빅사이즈같지않아요. 입고벗을때 편하게 밴딩부분이 늘어나고 입었을때도 밴딩이 잡아주어야하는데 말이죠. -> Sentiment: LABEL_1, Score: 0.520359992980957\n",
            "Text: 사이즈도 딱이고 귀엽고 넘 좋아요 ㅎㅎ -> Sentiment: LABEL_1, Score: 0.5189527273178101\n",
            "Text: 베이지 색 구매했는데 약간 살색에 가까워요 -> Sentiment: LABEL_0, Score: 0.5094815492630005\n",
            "Text: 화면빨인가봐요;; 노란컬러가 돋보여요;; 저렴한맛에 그냥 씁니다 -> Sentiment: LABEL_1, Score: 0.510436475276947\n",
            "Text: 별루 ㅏㅛㅇ치ㅗ티ㅓ치ㅗ탛캏타ㅗ티ㅗ티ㅗ티ㅛ티ㅛ티ㅗㅗㅗ치ㅕ치ㅕ쳐ㅣ처ㅣ치ㅓ처ㅣ펴ㅣ쳐ㅣ치ㅕㅐㅛㅌ쵸ㅔ려ㅔㅎ -> Sentiment: LABEL_0, Score: 0.5112485885620117\n",
            "Text: 촉감도 좋고 무게감이나 핏도 편합니다 -> Sentiment: LABEL_1, Score: 0.5090281367301941\n",
            "Text: 불멍하기좋고 사이즈도 너무 좋아요 -> Sentiment: LABEL_0, Score: 0.5106122493743896\n",
            "Text: 재구매 친구들이 좋은 향 난다고 해요 -> Sentiment: LABEL_0, Score: 0.5000348687171936\n",
            "Text: 실내에서 신는건지 몰랐어요 -> Sentiment: LABEL_1, Score: 0.5104555487632751\n",
            "Text: 재구매 다 좋은데 하나가 이상하네요 -> Sentiment: LABEL_1, Score: 0.510870099067688\n",
            "Text: 가게를 운영하는 사장님께서 대신 구매 해달라고 하셔서 구매하게되었는데 가게에 달아놓으니까 이쁘네요 -> Sentiment: LABEL_1, Score: 0.5247378349304199\n",
            "Text: 가성비 괜찮습니다 바퀴가 고정된다면 별다섯개짜린데... -> Sentiment: LABEL_1, Score: 0.51887446641922\n",
            "Text: 화장이 깨끗하게 지워지지않아요 거품이생기고 오랫동안 문질러서 씻어내야하지만 세정력이 별로인듯해요 -> Sentiment: LABEL_1, Score: 0.5238386392593384\n",
            "Text: 남자 애들 인데 너무 좋아요 유해성분없어 초등들도 바르기좋아요 -> Sentiment: LABEL_0, Score: 0.514065682888031\n",
            "Text: 채집통이 결착이 안됩니다. 채집통이 결착이 안되서 커터칼로 결착 부분과 모서리 부분을 깍아 냈더니 겨우 결착이 됩니다.해당 부분은 제품 불량 이슈 같구요 보내시기 전에 최소한의 테스트는 하고 보내주세요. -> Sentiment: LABEL_1, Score: 0.5029681921005249\n",
            "Text: 재구매 늘 사는 흙이에요 팽이들이 젤 좋아해요 빠른배송 감사합니다 -> Sentiment: LABEL_1, Score: 0.5053437948226929\n",
            "Text: 처음 쓸때만 좋고 쓰다보니 의자뺄때 소리 계속 나요 그래서 붙이는부직포 덧붙였는데 여전히 끌리네요 비추에요 테니스공으로 살껄 이쁜거 산다고 이거 사서 후회되요 -> Sentiment: LABEL_1, Score: 0.5151349306106567\n",
            "Text: 배송기사나, 판매하는 회사나 불친절하고 불쾌합니다. 서비스면에선 최악이네요 제품은 그럭저럭 쓸만합니다. 싼게 비지떡 마인드부터 갖추고 장사하시길바랍니다. 이익에 눈 -> Sentiment: LABEL_1, Score: 0.5152552127838135\n",
            "Text: 저렴해서 구매 했지만 바지 완성도 떨어짐~~^^; -> Sentiment: LABEL_1, Score: 0.507970929145813\n",
            "Text: 사용이 불편하고 잘빠지네요ㅜ -> Sentiment: LABEL_1, Score: 0.5144111514091492\n",
            "Text: 양은 많은데 맛은 없었습니다 -> Sentiment: LABEL_1, Score: 0.5226888060569763\n",
            "Text: 설치할때 전압이 넘 높아 퓨즈 나갔어여 -> Sentiment: LABEL_1, Score: 0.5183229446411133\n",
            "Text: 첨에받았을땐 너무튼튼하구 칸막이도있구 넘맘에들었는데요... 지금도맘에는들어요..근데....먼지가 먼지가 세상먼지다묻어요ㅠㅠ흑흑ㅠ 집에가만히 뒀는데도 먼지가다묻어있어요ㅠ 한번들고 그냥 모셔두었어요ㅜㅜ 까만색은 넘나비추입니다ㅠ 아이보리로살껄...ㅠ -> Sentiment: LABEL_0, Score: 0.5118843913078308\n",
            "Text: 휴대폰 각이 잘 안나옴 노트9 사용 얇은 케이스 꺼도 잘 빠지지가 않네요 진짜 불편한건 각도가 조절이 너무 조금 된다는 점 입니다,,,, -> Sentiment: LABEL_0, Score: 0.5192354321479797\n",
            "Text: 너무 생각보다 고급스럽 -> Sentiment: LABEL_0, Score: 0.5091525912284851\n",
            "Text: 가볍고 좋아요. 옵션에 파우치도 있었으면 얼마나 좋았을까 아쉽네요. 따로 구매 했어요. 잘 사용할께요. -> Sentiment: LABEL_1, Score: 0.5192461609840393\n",
            "Text: 총 4개 샀는데,사용하기 전에 부드러운 물티슈로 닦았는데,프린트가 번졌네요 교환하기가 귀찮아서 그냥 쓰지만 아쉽네요 -> Sentiment: LABEL_1, Score: 0.5157485008239746\n",
            "Text: 모기가 않들어가요ᆢ -> Sentiment: LABEL_0, Score: 0.5030640959739685\n",
            "Text: 선물준사람도 받은사람도 모두 만족했어요^^ -> Sentiment: LABEL_1, Score: 0.5123148560523987\n",
            "Text: 예쁘고 심플해서 샀는데. 재질이 깔끄러워요. 살에 자국 다 베이고ㅠㅠ....폭망이에요. 재대로 확인안한 제 잘못이죠;;; 참고로 싱글세트 2. 퀸세트 1 샀습니다. -> Sentiment: LABEL_1, Score: 0.5212932229042053\n",
            "Text: 고정이 잘되기는 하는데 많이 쓰면 떡진것 처럼 보일까봐 걱정되서 많이 못쓰겠어요 -> Sentiment: LABEL_1, Score: 0.5170043110847473\n",
            "Text: 맛있어서 주문합니다. 카페갈 필요없음 -> Sentiment: LABEL_1, Score: 0.5026780366897583\n",
            "Text: 진짜 너무하시네요 배송이늦는건 엄절수없다하고 참앗지만 밑에 서랍이 금방 안되서 AS되냐고 물어봣는데 전화도 안받고 10시에 톡을보냇는데 오후6시에 답해서 뭐하나물어보려고하니 상담시간이아니라고 뜨네요 빨리as좀 해주세요 안되면 안된다고 답장부탁드립니다 -> Sentiment: LABEL_0, Score: 0.5105347633361816\n",
            "Text: 좋아요 색도 좋고 포근한 이불 -> Sentiment: LABEL_1, Score: 0.505730152130127\n",
            "Text: 네이비 색상이 조금 진한듯 하지만 굿 -> Sentiment: LABEL_1, Score: 0.5095896124839783\n",
            "Text: 역시 기다린 보람이 있는 제품이군요!! -> Sentiment: LABEL_1, Score: 0.5219081044197083\n",
            "Text: 퀄리티 가 좀떨어지고 손이따로노는것 같아요 -> Sentiment: LABEL_1, Score: 0.5067958831787109\n",
            "Text: 약간 삐뚤게 설치되네요.. 반품 귀찮아서 그냥 씁니다. -> Sentiment: LABEL_0, Score: 0.516069769859314\n",
            "Text: 피부 트러블 더 많이 올라와서 몸에 사용했는데 몸에도 뾰루지나네요ㅜ -> Sentiment: LABEL_1, Score: 0.5132200121879578\n",
            "Text: 겁나 아픈데 익숙해지면 된다길래 몇일 했더니 발에 멍들고 고통이 너무 심하고 컨디션이 더 안좋아져서 결국 패기처분 했네요. 사람마다 다르니 사기전에 신중히 결정하세요. 참고로 전 평발아닙니다. -> Sentiment: LABEL_0, Score: 0.5046352744102478\n",
            "Text: 아직 이유식 초기라 사용하지않았지만 후기보고 믿고 구매했습니다! 사이즈는 다양해서 너무 좋고요 실리콘재질이라 편하게 쓸거같아요 -> Sentiment: LABEL_0, Score: 0.5035470128059387\n",
            "Text: 사이즈가 딱이에요!! 오자마자 쪄 먹엇는뎅 달디달아요 -> Sentiment: LABEL_1, Score: 0.5173515677452087\n",
            "Text: 좀뻣뻣해서 애가 좋아하질않네요 -> Sentiment: LABEL_1, Score: 0.5032187104225159\n",
            "Text: 생각보다 너무 작아서요 나중에 먼지먹는식물이나 넣어야겠어요 물건은 흠없습니다 -> Sentiment: LABEL_0, Score: 0.510995626449585\n",
            "Text: 세정력이 약해요. 처음사용할 땐 세제찌꺼기가 없어서 좋다고 했는데 2/3 사용해보니 너무 안씻겨요. 지멘스랑 안맞는건지.... 다시 쓰던 고체형으로 갈아탔습니다. -> Sentiment: LABEL_0, Score: 0.5084667801856995\n",
            "Text: 흡착력이 너무 약해요..ㅠ 식판은 잘붙는데 이거는 애기가 자꾸 떼네요 -> Sentiment: LABEL_0, Score: 0.5092873573303223\n",
            "Text: 재구매 짱구오빠네 소개로 이용했는데 저번엔... -> Sentiment: LABEL_1, Score: 0.5146560668945312\n"
          ]
        }
      ]
    },
    {
      "cell_type": "code",
      "source": [
        "df_results = pd.DataFrame({\n",
        "    'Text': texts,\n",
        "    'Sentiment': [result['label'] for result in results],\n",
        "    'Score': [result['score'] for result in results]\n",
        "})\n",
        "print(df_results)\n"
      ],
      "metadata": {
        "colab": {
          "base_uri": "https://localhost:8080/"
        },
        "id": "wrB_Y6u_0JBi",
        "outputId": "558c1ea1-6622-40a7-faa2-56b6188527f4"
      },
      "execution_count": 15,
      "outputs": [
        {
          "output_type": "stream",
          "name": "stdout",
          "text": [
            "                                                 Text Sentiment     Score\n",
            "0                                             배공빠르고 굿   LABEL_1  0.503375\n",
            "1                       택배가 엉망이네용 저희집 밑에층에 말도없이 놔두고가고   LABEL_1  0.510330\n",
            "2   아주좋아요 바지 정말 좋아서2개 더 구매했어요 이가격에 대박입니다. 바느질이 조금 ...   LABEL_1  0.520544\n",
            "3   선물용으로 빨리 받아서 전달했어야 하는 상품이었는데 머그컵만 와서 당황했습니다. 전...   LABEL_1  0.522891\n",
            "4                   민트색상 예뻐요. 옆 손잡이는 거는 용도로도 사용되네요 ㅎㅎ   LABEL_1  0.512019\n",
            "5   비추합니다 계란 뒤집을 때 완전 불편해요 ㅠㅠ 코팅도 묻어나고 보기엔 예쁘고 실용적...   LABEL_1  0.523700\n",
            "6   주문을 11월6에 시켰는데 11월16일에 배송이 왔네요 ㅎㅎㅎ 여기 회사측과는 전화...   LABEL_1  0.526054\n",
            "7                           넉넉한 길이로 주문했는데도 안 맞네요 별로예요   LABEL_1  0.517050\n",
            "8                           보폴이 계속 때처럼 나오다가 지금은 안나네요~   LABEL_1  0.505603\n",
            "9   110인데 전문속옷브랜드 위생팬티105보다 작은듯해요. 불편해요. 밴딩부분이 다 신...   LABEL_1  0.520360\n",
            "10                              사이즈도 딱이고 귀엽고 넘 좋아요 ㅎㅎ   LABEL_1  0.518953\n",
            "11                            베이지 색 구매했는데 약간 살색에 가까워요   LABEL_0  0.509482\n",
            "12                화면빨인가봐요;; 노란컬러가 돋보여요;; 저렴한맛에 그냥 씁니다   LABEL_1  0.510436\n",
            "13  별루 ㅏㅛㅇ치ㅗ티ㅓ치ㅗ탛캏타ㅗ티ㅗ티ㅗ티ㅛ티ㅛ티ㅗㅗㅗ치ㅕ치ㅕ쳐ㅣ처ㅣ치ㅓ처ㅣ펴ㅣ쳐ㅣ치ㅕ...   LABEL_0  0.511249\n",
            "14                               촉감도 좋고 무게감이나 핏도 편합니다   LABEL_1  0.509028\n",
            "15                                 불멍하기좋고 사이즈도 너무 좋아요   LABEL_0  0.510612\n",
            "16                               재구매 친구들이 좋은 향 난다고 해요   LABEL_0  0.500035\n",
            "17                                     실내에서 신는건지 몰랐어요   LABEL_1  0.510456\n",
            "18                                재구매 다 좋은데 하나가 이상하네요   LABEL_1  0.510870\n",
            "19  가게를 운영하는 사장님께서 대신 구매 해달라고 하셔서 구매하게되었는데 가게에 달아놓...   LABEL_1  0.524738\n",
            "20                     가성비 괜찮습니다 바퀴가 고정된다면 별다섯개짜린데...   LABEL_1  0.518874\n",
            "21  화장이 깨끗하게 지워지지않아요 거품이생기고 오랫동안 문질러서 씻어내야하지만 세정력이...   LABEL_1  0.523839\n",
            "22                 남자 애들 인데 너무 좋아요 유해성분없어 초등들도 바르기좋아요   LABEL_0  0.514066\n",
            "23  채집통이 결착이 안됩니다. 채집통이 결착이 안되서 커터칼로 결착 부분과 모서리 부분...   LABEL_1  0.502968\n",
            "24               재구매 늘 사는 흙이에요 팽이들이 젤 좋아해요 빠른배송 감사합니다   LABEL_1  0.505344\n",
            "25  처음 쓸때만 좋고 쓰다보니 의자뺄때 소리 계속 나요 그래서 붙이는부직포 덧붙였는데 ...   LABEL_1  0.515135\n",
            "26  배송기사나, 판매하는 회사나 불친절하고 불쾌합니다. 서비스면에선 최악이네요 제품은 ...   LABEL_1  0.515255\n",
            "27                        저렴해서 구매 했지만 바지 완성도 떨어짐~~^^;   LABEL_1  0.507971\n",
            "28                                    사용이 불편하고 잘빠지네요ㅜ   LABEL_1  0.514411\n",
            "29                                    양은 많은데 맛은 없었습니다   LABEL_1  0.522689\n",
            "30                              설치할때 전압이 넘 높아 퓨즈 나갔어여   LABEL_1  0.518323\n",
            "31  첨에받았을땐 너무튼튼하구 칸막이도있구 넘맘에들었는데요... 지금도맘에는들어요..근데...   LABEL_0  0.511884\n",
            "32  휴대폰 각이 잘 안나옴 노트9 사용 얇은 케이스 꺼도 잘 빠지지가 않네요 진짜 불편...   LABEL_0  0.519235\n",
            "33                                       너무 생각보다 고급스럽   LABEL_0  0.509153\n",
            "34  가볍고 좋아요. 옵션에 파우치도 있었으면 얼마나 좋았을까 아쉽네요. 따로 구매 했어...   LABEL_1  0.519246\n",
            "35  총 4개 샀는데,사용하기 전에 부드러운 물티슈로 닦았는데,프린트가 번졌네요 교환하기...   LABEL_1  0.515749\n",
            "36                                         모기가 않들어가요ᆢ   LABEL_0  0.503064\n",
            "37                            선물준사람도 받은사람도 모두 만족했어요^^   LABEL_1  0.512315\n",
            "38  예쁘고 심플해서 샀는데. 재질이 깔끄러워요. 살에 자국 다 베이고ㅠㅠ....폭망이에...   LABEL_1  0.521293\n",
            "39       고정이 잘되기는 하는데 많이 쓰면 떡진것 처럼 보일까봐 걱정되서 많이 못쓰겠어요   LABEL_1  0.517004\n",
            "40                               맛있어서 주문합니다. 카페갈 필요없음   LABEL_1  0.502678\n",
            "41  진짜 너무하시네요 배송이늦는건 엄절수없다하고 참앗지만 밑에 서랍이 금방 안되서 AS...   LABEL_0  0.510535\n",
            "42                                   좋아요 색도 좋고 포근한 이불   LABEL_1  0.505730\n",
            "43                               네이비 색상이 조금 진한듯 하지만 굿   LABEL_1  0.509590\n",
            "44                              역시 기다린 보람이 있는 제품이군요!!   LABEL_1  0.521908\n",
            "45                            퀄리티 가 좀떨어지고 손이따로노는것 같아요   LABEL_1  0.506796\n",
            "46                     약간 삐뚤게 설치되네요.. 반품 귀찮아서 그냥 씁니다.   LABEL_0  0.516070\n",
            "47              피부 트러블 더 많이 올라와서 몸에 사용했는데 몸에도 뾰루지나네요ㅜ   LABEL_1  0.513220\n",
            "48  겁나 아픈데 익숙해지면 된다길래 몇일 했더니 발에 멍들고 고통이 너무 심하고 컨디션...   LABEL_0  0.504635\n",
            "49  아직 이유식 초기라 사용하지않았지만 후기보고 믿고 구매했습니다! 사이즈는 다양해서 ...   LABEL_0  0.503547\n",
            "50                      사이즈가 딱이에요!! 오자마자 쪄 먹엇는뎅 달디달아요   LABEL_1  0.517352\n",
            "51                                   좀뻣뻣해서 애가 좋아하질않네요   LABEL_1  0.503219\n",
            "52         생각보다 너무 작아서요 나중에 먼지먹는식물이나 넣어야겠어요 물건은 흠없습니다   LABEL_0  0.510996\n",
            "53  세정력이 약해요. 처음사용할 땐 세제찌꺼기가 없어서 좋다고 했는데 2/3 사용해보니...   LABEL_0  0.508467\n",
            "54             흡착력이 너무 약해요..ㅠ 식판은 잘붙는데 이거는 애기가 자꾸 떼네요   LABEL_0  0.509287\n",
            "55                         재구매 짱구오빠네 소개로 이용했는데 저번엔...   LABEL_1  0.514656\n"
          ]
        }
      ]
    },
    {
      "cell_type": "code",
      "source": [
        "sns.countplot(x='Sentiment', data=df_results)\n",
        "plt.title('Sentiment Distribution')\n",
        "plt.xlabel('Sentiment')\n",
        "plt.ylabel('Count')\n",
        "plt.show()\n"
      ],
      "metadata": {
        "colab": {
          "base_uri": "https://localhost:8080/",
          "height": 472
        },
        "id": "JRPgAkbS0KBr",
        "outputId": "1cdb81fc-47c0-42bb-905c-9d4160131dfe"
      },
      "execution_count": 16,
      "outputs": [
        {
          "output_type": "display_data",
          "data": {
            "text/plain": [
              "<Figure size 640x480 with 1 Axes>"
            ],
            "image/png": "[encoded data removed]"
          },
          "metadata": {}
        }
      ]
    }
  ]
}